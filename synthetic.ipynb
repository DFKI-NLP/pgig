{
 "cells": [
  {
   "cell_type": "markdown",
   "metadata": {},
   "source": [
    "# Pattern-Guided Integrated Gradients\n",
    "\n",
    "[Sundararajan et al. (2017)](https://arxiv.org/abs/1703.01365) and [Kindermans et al. (2017)](https://arxiv.org/abs/1705.05598) motivate their methods, Integrated Gradients (IG) and PatternAttribution (PA), respectively, with different stress tests for attribution methods. \n",
    "\n",
    "In this notebook we show that IG fails the stress test that PA passes and vice versa. \n",
    "\n",
    "We then introduce Pattern-Guided Integrated Gradients (PGIG), a hybrid method, and show that PGIG passes all stress tests. "
   ]
  },
  {
   "cell_type": "markdown",
   "metadata": {},
   "source": [
    "## 1) The Stress Tests: Overview\n",
    "\n",
    "IG mitigates the *saturation problem* that occurs at function plateaus where the gradient backpropagation is stopped due to a zero gradient. PA does not pass this test, i.e. it always assigns zero scores to inputs that activated the output neurons at function plateaus. \n",
    "\n",
    "PA, however, does not attribute importance to noise in the input. More precisely, it does not attribute importance to inputs that are filtered by the model because they do not carry information about the target/label. IG fails this test, as we will demonstrate below. \n",
    "\n",
    "We argue that input neurons that activate output neurons should be attributed importance and that noise which is filtered by the model should not be salient. We propose Pattern-Guided Integrated Gradients and show that this new hybrid method achieves just that: _Like IG, it mitigates the saturation problem and like PA, it bypasses noise._"
   ]
  },
  {
   "cell_type": "code",
   "execution_count": 1,
   "metadata": {},
   "outputs": [],
   "source": [
    "import numpy as np\n",
    "from overrides import overrides\n",
    "import matplotlib.pyplot as plt\n",
    "from typing import Tuple\n",
    "import copy\n",
    "import warnings\n",
    "from numpy import savetxt\n",
    "import os \n",
    "%matplotlib inline\n",
    "np.random.seed(42)"
   ]
  },
  {
   "cell_type": "markdown",
   "metadata": {},
   "source": [
    "## 2) Pattern Estimation Functions\n",
    "\n",
    "Let us first define the function we need to compute patterns, as introduced in [Kindermans et al. (2017)](https://arxiv.org/abs/1705.05598). \n",
    "\n",
    "The pattern is computed as \n",
    "\n",
    "$p_{+} = \\frac{E_{+}[xy]-E_{+}[x]E[y]}{w^{T}E_{+}[xy]-w^{T}E_{+}[x]E[y]}$\n",
    "\n",
    "where $E$ denotes the expected value and $E_{+}$ denotes the expected value in the positive regime of a ReLU activated layer. "
   ]
  },
  {
   "cell_type": "code",
   "execution_count": 2,
   "metadata": {},
   "outputs": [],
   "source": [
    "def positive_regime(input: np.array, output: np.array, feature_in: int, feature_out: int) -> Tuple[np.array, np.array]:\n",
    "    \"\"\"\n",
    "    Filter the positive regime. \n",
    "    \n",
    "    Args:\n",
    "        input: Input array of shape (N, features_in).\n",
    "        output: Output array of shape (N, features_out).\n",
    "        feature_in: Input feature dimension to consider with 0 <= feature_in <= dim_in.\n",
    "        feature_out: Output feature dimension to consider with\n",
    "\n",
    "    Returns: Filtered input array of shape (N-M, 1) and corresponding output array of shape (N-M, 1),\n",
    "    where M is the number of negative outputs.\n",
    "    \"\"\"\n",
    "\n",
    "    # Collect input and output features at positions feature_in and feature_out, respectively.\n",
    "    features_in = input[:, feature_in]\n",
    "    features_out = output[:, feature_out]\n",
    "\n",
    "    # Collect inputs and corresponding outputs where feature_out > 0\n",
    "    x_plus = []\n",
    "    y_plus = []\n",
    "\n",
    "    for idx, feature_out in enumerate(features_out):\n",
    "        if feature_out > 0:\n",
    "            x_plus.append(features_in[idx])\n",
    "            y_plus.append(features_out[idx])\n",
    "            \n",
    "    return np.array(x_plus), np.array(y_plus)\n",
    "\n",
    "\n",
    "def compute_pattern(input: np.array, output: np.array, weights: np.array) -> np.array:\n",
    "    \"\"\"\n",
    "    The pattern estimation according to Eq. 7 (Kindermans et al., 2017) for the positive regime.  \n",
    "\n",
    "    Args:\n",
    "        input: Input to the model of shape (N, features_in).\n",
    "        output: ReLU activated output of the model of shape (N, features_out).\n",
    "        weights: Weights of the model of shape (features_in, features_out).\n",
    "\n",
    "\n",
    "    Returns: The pattern estimation (a+) of shape (features_in, features_out).\n",
    "\n",
    "    \"\"\"\n",
    "\n",
    "    # Create three matrices E[x+ y], E[x+].\n",
    "    E_x_plus_matrix = np.zeros_like(weights, dtype=np.double) \n",
    "    E_x_plus_times_y_matrix = np.zeros_like(weights, dtype=np.double)\n",
    "\n",
    "    # Populate the matrices above.\n",
    "    dims_in, dims_out = weights.shape\n",
    "    for dim_in in range(dims_in):\n",
    "        for dim_out in range(dims_out):\n",
    "            # Collect all x,y for which ReLU(wTx) = y > 0\n",
    "            x_plus, y_plus = positive_regime(input=input,\n",
    "                                             output=output,\n",
    "                                             feature_in=dim_in,\n",
    "                                             feature_out=dim_out)\n",
    "\n",
    "            # Create the expected values, aka means.\n",
    "            E_x = np.mean(x_plus)\n",
    "            E_x_y = np.mean(x_plus * y_plus)\n",
    "\n",
    "            # Populate the matrices above.\n",
    "            E_x_plus_matrix[dim_in][dim_out] = E_x \n",
    "            E_x_plus_times_y_matrix[dim_in][dim_out] = E_x_y \n",
    "\n",
    "    # Create a matrix holding the mean of the output\n",
    "    E_y = np.mean(output)\n",
    "    E_y_matrix = np.full_like(weights, E_y, dtype=np.double)\n",
    "\n",
    "    # Compute the nominator and denominator according to Eq. 7.\n",
    "    nominator = E_x_plus_times_y_matrix - (E_x_plus_matrix * E_y_matrix)\n",
    "    denominator = np.matmul(weights.T, E_x_plus_times_y_matrix) - np.matmul(weights.T, (E_x_plus_matrix * E_y_matrix))\n",
    "    pattern = nominator / denominator\n",
    "\n",
    "    return pattern"
   ]
  },
  {
   "cell_type": "markdown",
   "metadata": {},
   "source": [
    "## 3) Stress Test: Noisy Inputs\n",
    "\n",
    "Let us replicate the paper experiments in Kindermans et al. (2017)."
   ]
  },
  {
   "cell_type": "markdown",
   "metadata": {},
   "source": [
    "### Target\n",
    "We first create the target $z$ within the bounds (-2,2). "
   ]
  },
  {
   "cell_type": "code",
   "execution_count": 3,
   "metadata": {},
   "outputs": [],
   "source": [
    "left_limit, right_limit = -2, 2  # domain lower bound\n",
    "step = 0.01 # determines number of data point within domain\n",
    "z = np.array([np.arange(left_limit, right_limit, step=step)])  # target"
   ]
  },
  {
   "cell_type": "markdown",
   "metadata": {},
   "source": [
    "### Signal\n",
    "\n",
    "We can now create a signal which perfectly correlates with $z$, but only in the first dimension. To this end, we use the base vector $(1, 0)^T$ for the signal."
   ]
  },
  {
   "cell_type": "code",
   "execution_count": 4,
   "metadata": {},
   "outputs": [
    {
     "data": {
      "text/plain": [
       "Text(0.5, 1.0, 'Signal')"
      ]
     },
     "execution_count": 4,
     "metadata": {},
     "output_type": "execute_result"
    },
    {
     "data": {
      "image/png": "[encoded data removed]",
      "text/plain": [
       "<Figure size 432x288 with 1 Axes>"
      ]
     },
     "metadata": {
      "needs_background": "light"
     },
     "output_type": "display_data"
    }
   ],
   "source": [
    "base_vector_signal = np.array([[1], [0]])  # signal base vector\n",
    "signal = (z * base_vector_signal).T  # target scales base vector, signal and target correlate\n",
    "\n",
    "plt.scatter(signal[:,0], signal[:,1], marker='.')\n",
    "plt.ylim(-2, 2)\n",
    "plt.title('Signal')"
   ]
  },
  {
   "cell_type": "markdown",
   "metadata": {},
   "source": [
    "### Distractor\n",
    "Next, we create a distractor that does not covary with the target. We use the base vector $(1,1)^T$ and scale it with $\\epsilon \\sim N(\\mu, \\sigma)$."
   ]
  },
  {
   "cell_type": "code",
   "execution_count": 5,
   "metadata": {},
   "outputs": [
    {
     "data": {
      "text/plain": [
       "Text(0.5, 1.0, 'Distractor')"
      ]
     },
     "execution_count": 5,
     "metadata": {},
     "output_type": "execute_result"
    },
    {
     "data": {
      "image/png": "[encoded data removed]",
      "text/plain": [
       "<Figure size 432x288 with 1 Axes>"
      ]
     },
     "metadata": {
      "needs_background": "light"
     },
     "output_type": "display_data"
    }
   ],
   "source": [
    "mu, sigma = 0, 0.3  # mean and variance of normal distribution to sample noise from\n",
    "eps = np.random.normal(mu, sigma, len(signal))  # scale factors for noise base vector\n",
    "base_vector_distractor = np.array([[1], [1]])  # noise base vector\n",
    "distractor = (eps * base_vector_distractor).T  # noise base vector scales with samples from random distribution\n",
    "\n",
    "plt.scatter(distractor[:, 0], distractor[:, 1], marker='.')\n",
    "plt.ylim(-2, 2)\n",
    "plt.title('Distractor')"
   ]
  },
  {
   "cell_type": "markdown",
   "metadata": {},
   "source": [
    "Note: At first it might seem there is correlation, but the distractor above is not aligned with the target and signal. "
   ]
  },
  {
   "cell_type": "markdown",
   "metadata": {},
   "source": [
    "## Data \n",
    "The data is the signal plus the distractor. "
   ]
  },
  {
   "cell_type": "code",
   "execution_count": 6,
   "metadata": {},
   "outputs": [
    {
     "data": {
      "text/plain": [
       "Text(0.5, 1.0, 'Data')"
      ]
     },
     "execution_count": 6,
     "metadata": {},
     "output_type": "execute_result"
    },
    {
     "data": {
      "image/png": "[encoded data removed]",
      "text/plain": [
       "<Figure size 432x288 with 1 Axes>"
      ]
     },
     "metadata": {
      "needs_background": "light"
     },
     "output_type": "display_data"
    }
   ],
   "source": [
    "X = signal + distractor\n",
    "\n",
    "plt.scatter(X[:,0], X[:,1], marker='.')\n",
    "plt.ylim(-2, 2)\n",
    "plt.title('Data')"
   ]
  },
  {
   "cell_type": "markdown",
   "metadata": {},
   "source": [
    "## Model\n",
    "\n",
    "The model which achieves $w^{T}x = y$ must learn a weights vector orthogonal to the base vector of the distractor and scale it with the target. We can solve this analytically, $w = (1, -1)^{T}$:"
   ]
  },
  {
   "cell_type": "code",
   "execution_count": 7,
   "metadata": {},
   "outputs": [],
   "source": [
    "w = np.array([[1], [-1]])"
   ]
  },
  {
   "cell_type": "markdown",
   "metadata": {},
   "source": [
    "### Pattern Estimation\n",
    "\n",
    "Let us now estimate the pattern for this model. Hopefully the first dimension receives a value close to 1.0 and the second dimension a value close to 0.0. This would reflect that the method recognized that the model cancels the noise in the second dimension. "
   ]
  },
  {
   "cell_type": "code",
   "execution_count": 8,
   "metadata": {},
   "outputs": [
    {
     "data": {
      "text/plain": [
       "array([[1.01835493],\n",
       "       [0.01835493]])"
      ]
     },
     "execution_count": 8,
     "metadata": {},
     "output_type": "execute_result"
    }
   ],
   "source": [
    "p = compute_pattern(input=X, output=z.T, weights=w)\n",
    "p"
   ]
  },
  {
   "cell_type": "markdown",
   "metadata": {},
   "source": [
    "## Differential Layers\n",
    "\n",
    "It is soon time to move beyond the simple case for which we now define some differential layers.\n",
    "\n",
    "Below, we define \n",
    "\n",
    "    - a ReLU layer\n",
    "    - a Linear layer w/ an optional ReLU activation and an optional unit bias\n",
    "    - a PatternNet layer (inherits from Linear) and \n",
    "    - a PatternAttribution layer (inherits from Linear). \n",
    "\n",
    "The dense layers differ in how they propagate back incoming gradients: In case of the linear layer, the gradient wrt the inputs is simply the incoming gradient times the weights $w$. In case of PatternNet, we multiply with the pattern $p$ instead of the weights, and in case of PatternAttribution, we multiply with $w \\circ p$.  "
   ]
  },
  {
   "cell_type": "code",
   "execution_count": 9,
   "metadata": {},
   "outputs": [],
   "source": [
    "class ReLU:\n",
    "    \"\"\"Differentiable ReLU implementation.\"\"\"\n",
    "\n",
    "    def __init__(self, x=None):\n",
    "        self.x = x\n",
    "\n",
    "    @staticmethod\n",
    "    def relu(x):\n",
    "        \"\"\"\n",
    "        The ReLU function.\n",
    "\n",
    "        Args:\n",
    "            x: Input float.\n",
    "\n",
    "        Returns: ReLU(x)\n",
    "        \"\"\"\n",
    "        return np.maximum(0, x)\n",
    "\n",
    "    def forward(self, x):\n",
    "        \"\"\"\n",
    "        Applies the ReLU function.\n",
    "\n",
    "        Args:\n",
    "            x: Input.\n",
    "\n",
    "        Returns: ReLU(x).\n",
    "        \"\"\"\n",
    "        self.x = x\n",
    "        return ReLU.relu(x)\n",
    "\n",
    "    def backward(self, grad_in):\n",
    "        \"\"\"\n",
    "        Propagates back the incoming gradient if the input to this function greater 0.0. Else 0.0 is propagated back.\n",
    "        Args:\n",
    "            grad_in: Incoming gradient.\n",
    "\n",
    "        Returns: Gradient wrt input.\n",
    "        \"\"\"\n",
    "        if self.x is None:\n",
    "            raise ValueError('Perform a forward pass first.')\n",
    "        if self.x > 0.:\n",
    "            grad_out = grad_in\n",
    "            return grad_out\n",
    "        else:\n",
    "            return 0.\n",
    "\n",
    "class Linear:\n",
    "    def __init__(self, \n",
    "                 w: np.array, \n",
    "                 has_unit_bias=False, \n",
    "                 has_relu_activation=False):\n",
    "        \"\"\"\n",
    "        Differentiable linear layer with optional ReLu activation.\n",
    "\n",
    "        Args:\n",
    "            w: Model weights of shape (features_in, feature_out).\n",
    "            has_unit_bias: Whether or not this layer has a unit bias neuron (weight 1, activation 1).\n",
    "            has_relu_activation: Whether or not this layer is relu-activated. \n",
    "        \"\"\"\n",
    "        self.has_unit_bias = has_unit_bias\n",
    "        if not self.has_unit_bias:\n",
    "            self.w = w\n",
    "        else: \n",
    "            self.w = np.concatenate((w, np.array([[1.0]]))) # add bias weight\n",
    "            \n",
    "            \n",
    "        self.has_relu_activation = has_relu_activation\n",
    "        if self.has_relu_activation:\n",
    "             self.relu = ReLU()\n",
    "        else:\n",
    "            self.relu = None\n",
    "\n",
    "    def forward(self, x):\n",
    "        \"\"\"\n",
    "        Forward pass, y=w^Tx+b or y=ReLU(w^Tx+b) if relu is activated. b = 1 if has_unit_bias, 0 else. \n",
    "\n",
    "        Args:\n",
    "            x: Input array.\n",
    "\n",
    "        Returns: Linear transformation of the input.\n",
    "        \"\"\"\n",
    "        if self.has_unit_bias:\n",
    "            if x.ndim == 1: \n",
    "                _x = np.expand_dims(x, 1)\n",
    "            else:\n",
    "                _x = x\n",
    "            self._x = np.concatenate((_x, np.array([[1.0]]))) # add bias activation\n",
    "            \n",
    "        else:\n",
    "            self._x = x\n",
    "            \n",
    "        self._z = np.matmul(self.w.T, self._x)\n",
    "            \n",
    "        if self.has_relu_activation:\n",
    "            self._y = self.relu.forward(self._z)\n",
    "        else:\n",
    "            self._y = self._z\n",
    "        \n",
    "        \n",
    "        return self._y\n",
    "\n",
    "    def backward(self, grad_in):\n",
    "        \"\"\"\n",
    "        Backward propagation of the incoming gradient onto the input.\n",
    "        Args:\n",
    "            grad_in: Incoming gradient.\n",
    "\n",
    "        Returns: Gradient wrt input.\n",
    "        \"\"\"\n",
    "        if self.has_relu_activation:\n",
    "            _grad_in = self.relu.backward(grad_in)\n",
    "        else:\n",
    "            _grad_in = grad_in\n",
    "        grad_out = self.w * _grad_in\n",
    "        \n",
    "        if self.has_unit_bias:\n",
    "            grad_out = grad_out[:-1] # do not return grad wrt bias\n",
    "        \n",
    "        return grad_out\n",
    "\n",
    "\n",
    "class Pattern(Linear):\n",
    "    \n",
    "    def __init__(self, \n",
    "                 w, \n",
    "                 has_unit_bias, \n",
    "                 has_relu_activation, \n",
    "                 pattern = None):\n",
    "        \"\"\"\n",
    "        Abstract class for pattern-based explainability methods.\n",
    "        \n",
    "        Implements the pattern computation. \n",
    "        \n",
    "        Args: \n",
    "            w: Model weights of shape (features_in, features_out).\n",
    "            has_unit_bias: Whether or not this layer has a unit bias neuron (weight 1, activation 1).\n",
    "            has_relu_activation: Whether or not this layer is relu-activated.\n",
    "            patterns: Model patterns of shape (features_in, features_out).\n",
    "        \"\"\"\n",
    "        super().__init__(w=w,\n",
    "                        has_unit_bias=has_unit_bias,\n",
    "                        has_relu_activation=has_relu_activation)\n",
    "        if pattern is not None:\n",
    "            assert pattern.shape == self.w.shape, 'Shape mismatch between patterns and weights.'\n",
    "        self.pattern = pattern\n",
    "    \n",
    "    @overrides\n",
    "    def backward(self, grad_in):\n",
    "        raise NotImplemented\n",
    "        \n",
    "    def set_pattern(self, X): \n",
    "        \"\"\"\n",
    "        Computes the pattern for this layer. \n",
    "        \n",
    "        Args: \n",
    "            X: Inputs to this layer of shape (N, features_in).\n",
    "        \n",
    "        Returns: This layer's pattern, this layer's outputs.\n",
    "        \"\"\"\n",
    "        assert self.pattern is None, 'For safety reasons patterns cannot be overwritten.'\n",
    "        _outputs = []\n",
    "        for x in X: \n",
    "            _y = self.forward(x)\n",
    "            _outputs.append(_y)\n",
    "        _outputs = np.array(_outputs)\n",
    "        _w = w if not self.has_unit_bias else self.w[:-1] # remove bias weight\n",
    "        self.pattern = compute_pattern(input=X, output=_outputs, weights=_w)\n",
    "        if self.has_unit_bias:\n",
    "            self.pattern = np.concatenate((self.pattern, np.array([[0.0]]))) # bias is zero, see paper \n",
    "        assert self.pattern.shape == self.w.shape\n",
    "        return self.pattern, _outputs\n",
    "    \n",
    "class PatternNet(Pattern):\n",
    "\n",
    "    def __init__(self, \n",
    "                 w,\n",
    "                 has_unit_bias, \n",
    "                 has_relu_activation, \n",
    "                 pattern=None):\n",
    "        \"\"\"PatternNet, aka back propagation w/ patterns instead of weights.\"\"\"\n",
    "        super().__init__(w=w, \n",
    "                         has_unit_bias=has_unit_bias,\n",
    "                         has_relu_activation=has_relu_activation,\n",
    "                         pattern=pattern)\n",
    "\n",
    "    @overrides\n",
    "    def backward(self, grad_in):\n",
    "        \"\"\"\n",
    "        Signal backpropagation with patterns.\n",
    "\n",
    "        Args:\n",
    "            grad_in: Incoming gradients, aka signal.\n",
    "\n",
    "        Returns: This layer's input signal.\n",
    "        \"\"\"\n",
    "        if self.has_relu_activation:\n",
    "            grad_out = self.relu.backward(grad_in)\n",
    "        else:\n",
    "            grad_out = grad_in\n",
    "        grad_out = grad_in * self.pattern\n",
    "        if self.has_unit_bias: \n",
    "            grad_out = grad_out[:-1] # do not return grad wrt bias \n",
    "        return grad_out\n",
    "\n",
    "class PatternAttribution(Pattern):\n",
    "\n",
    "    def __init__(self, \n",
    "                 w,\n",
    "                 has_unit_bias = False, \n",
    "                 has_relu_activation = False,\n",
    "                 pattern = None):\n",
    "        \"\"\"\n",
    "        PatternAttribution, aka backward propagation with patterns * weights instead of with original weights.\n",
    "        \"\"\"\n",
    "        super().__init__(w=w,\n",
    "                         has_unit_bias = has_unit_bias, \n",
    "                         has_relu_activation=has_relu_activation,\n",
    "                         pattern=pattern)\n",
    "\n",
    "    @overrides\n",
    "    def backward(self, grad_in):\n",
    "        \"\"\"\n",
    "        Gradient back propagation with patterns.\n",
    "\n",
    "        Args:\n",
    "            grad_in: Incoming gradient.\n",
    "\n",
    "        Returns: Pattern attributions.\n",
    "        \"\"\"\n",
    "        if self.has_relu_activation:\n",
    "            grad_out = self.relu.backward(grad_in)\n",
    "        else:\n",
    "            grad_out = grad_in\n",
    "        w_p = self.w * self.pattern # this is automatically a sanity check: if pattern not set, this fails\n",
    "        grad_out = w_p * grad_out\n",
    "        if self.has_unit_bias:\n",
    "            grad_out = grad_out[:-1] # do not return bias attribution\n",
    "        return grad_out\n"
   ]
  },
  {
   "cell_type": "markdown",
   "metadata": {},
   "source": [
    "## Signal Reconstruction\n",
    "With PatternNet we can now reconstruct the signal. "
   ]
  },
  {
   "cell_type": "code",
   "execution_count": 10,
   "metadata": {},
   "outputs": [
    {
     "name": "stdout",
     "output_type": "stream",
     "text": [
      "Estimated pattern:\n",
      "[[1.01835493]\n",
      " [0.01835493]]\n"
     ]
    },
    {
     "data": {
      "text/plain": [
       "Text(0.5, 1.0, 'Signal Reconstructed w/ PatternNet')"
      ]
     },
     "execution_count": 10,
     "metadata": {},
     "output_type": "execute_result"
    },
    {
     "data": {
      "image/png": "[encoded data removed]",
      "text/plain": [
       "<Figure size 432x288 with 1 Axes>"
      ]
     },
     "metadata": {
      "needs_background": "light"
     },
     "output_type": "display_data"
    }
   ],
   "source": [
    "pattern_net = PatternNet(w=w, \n",
    "                         has_unit_bias=False,\n",
    "                         has_relu_activation=False,\n",
    "                         pattern=None)\n",
    "\n",
    "\n",
    "_p, _ = pattern_net.set_pattern(X) # also sets the pattern in pattern_net\n",
    "print('Estimated pattern:')\n",
    "print(_p)\n",
    "\n",
    "signal_reconstructed = pattern_net.backward(z)\n",
    "\n",
    "plt.scatter(signal_reconstructed[0], signal_reconstructed[1], marker='.')\n",
    "plt.ylim(-2, 2)\n",
    "plt.title('Signal Reconstructed w/ PatternNet')"
   ]
  },
  {
   "cell_type": "markdown",
   "metadata": {},
   "source": [
    "PatternNet sucessfully bypassed the noise in this stress test. Let us now combine the noise test with the saturation test, a stress scenario for attribution methods, discussed by [Sundararajan et al. (2017)](https://arxiv.org/abs/1703.01365) (inter alia)."
   ]
  },
  {
   "cell_type": "markdown",
   "metadata": {},
   "source": [
    "## 4) Stress Test: Saturation\n",
    "\n",
    "\n",
    "Saturation occurs when a function plateaus. At the plateau the gradient becomes zero which is why all input features that contributed to the model output at the plateau receive a zero-gradient. Some explainability methods, such as PatternAttribution, couple the saliency computation to the gradient which is why these methods attribute zero importance to input features that contributed to the plateaued activation, as we will see further below. This is acceptable if the model output is zero at the plateau but in all other cases, the contributing feature should not receive zero importance. \n",
    "\n",
    "To introduce a non-zero plateau, we use $f(x) = 1 - ReLU(1 - w^{T}x)$.  $f$ introduces a plateau after $w^{T}x>1$. \n",
    "\n",
    "Let us express $f$ in terms of a two layer feed forward network. \n",
    "\n",
    "Let $f_{1}$ be a ReLU activated dense layer with a unit bias and with $-w = (-1, 1)^{T}$ as its weights ($w$ as defined above) and let $f_{2}$ be another dense layer with $(-1)$ as its weight, again with a unit bias. Then, $f(x) = f_{2}(f_{1}(x)) = -ReLU(-w^{T}x + 1) + 1$. \n"
   ]
  },
  {
   "cell_type": "code",
   "execution_count": 11,
   "metadata": {},
   "outputs": [],
   "source": [
    "class Sequential: \n",
    "    \n",
    "    def __init__(self, layers):\n",
    "        \"\"\"\n",
    "        Sequential model interface. \n",
    "        \n",
    "        Args:\n",
    "            layers: The layers in the order they should process the input. \n",
    "        \"\"\"\n",
    "        self.layers = layers\n",
    "        \n",
    "    \n",
    "    def forward(self, x): \n",
    "        for layer in self.layers:\n",
    "            x = layer.forward(x)\n",
    "        return x \n",
    "    \n",
    "    def backward(self, grad_in):\n",
    "        grad_out = grad_in\n",
    "        for layer in reversed(self.layers):\n",
    "            grad_out = layer.backward(grad_out)\n",
    "        return grad_out\n",
    "        \n",
    "    def set_patterns(self, X):\n",
    "        outputs = X\n",
    "        patterns = []\n",
    "        for layer in self.layers:\n",
    "            assert isinstance(layer, Pattern), 'Layer must be a Pattern instance.'\n",
    "            pattern, outputs = layer.set_pattern(outputs)\n",
    "            patterns.append(pattern)\n",
    "        return patterns"
   ]
  },
  {
   "cell_type": "code",
   "execution_count": 12,
   "metadata": {},
   "outputs": [
    {
     "data": {
      "image/png": "[encoded data removed]",
      "text/plain": [
       "<Figure size 432x288 with 1 Axes>"
      ]
     },
     "metadata": {
      "needs_background": "light"
     },
     "output_type": "display_data"
    }
   ],
   "source": [
    "# Let's plot the saturated function. \n",
    "class ConventionalNet(Sequential):\n",
    "    def __init__(self):\n",
    "        super().__init__(layers=[Linear(w=-w, has_unit_bias=True, has_relu_activation=True),\n",
    "                                 Linear(w=np.array([[-1.0]]), has_unit_bias=True)])\n",
    "conventional_net = ConventionalNet()\n",
    "y = [conventional_net.forward(np.expand_dims(x, 1)).squeeze() for x in X]\n",
    "plt.scatter(range(len(y)), y, marker='.')\n",
    "plt.show()"
   ]
  },
  {
   "cell_type": "markdown",
   "metadata": {},
   "source": [
    "## Pattern Computation for the ReLU case. \n",
    "\n",
    "We need to recompute the patterns for the ReLU case. "
   ]
  },
  {
   "cell_type": "code",
   "execution_count": 13,
   "metadata": {},
   "outputs": [
    {
     "name": "stdout",
     "output_type": "stream",
     "text": [
      "Pattern Layer One:\n",
      "[[-1.00329617]\n",
      " [-0.00329617]\n",
      " [ 0.        ]]\n",
      "\n",
      "Pattern Layer Two:\n",
      "[[-1.]\n",
      " [ 0.]]\n"
     ]
    }
   ],
   "source": [
    "class PatternAttributionNet(Sequential):\n",
    "    def __init__(self):\n",
    "        super().__init__(layers=[PatternAttribution(w=-w, has_unit_bias=True, has_relu_activation=True),\n",
    "                                 PatternAttribution(w=np.array([[-1.0]]), has_unit_bias=True)])\n",
    "pattern_attribution_net = PatternAttributionNet() # Two-layer feed-forward net with PatternAttribution layers. \n",
    "[_p1, _p2] = pattern_attribution_net.set_patterns(X) # Patterns now set in pattern_attribution \n",
    "\n",
    "print('Pattern Layer One:')\n",
    "print(_p1)\n",
    "print('\\nPattern Layer Two:')\n",
    "print(_p2)"
   ]
  },
  {
   "cell_type": "markdown",
   "metadata": {},
   "source": [
    "## 5) Stress Testing Integrated Gradients and PatternAttribution. \n",
    "\n",
    "Let us now test Integrated Gradients and PatternAttribution with noisy inputs to the saturated function.\n",
    "\n",
    "Implementing PatternAttribution is straight forward. We simply collect the gradients with the patterns in place.\n",
    "\n",
    "### PatternAttribution"
   ]
  },
  {
   "cell_type": "code",
   "execution_count": 14,
   "metadata": {},
   "outputs": [
    {
     "data": {
      "image/png": "[encoded data removed]",
      "text/plain": [
       "<Figure size 1080x360 with 2 Axes>"
      ]
     },
     "metadata": {
      "needs_background": "light"
     },
     "output_type": "display_data"
    }
   ],
   "source": [
    "saliencies_pattern_attribution = []\n",
    "for x in X:\n",
    "    x = np.expand_dims(x, 1)\n",
    "    pred = pattern_attribution_net.forward(x) # patterns are set above\n",
    "    grad = pattern_attribution_net.backward(pred)\n",
    "    saliencies_pattern_attribution.append(grad)\n",
    "saliencies_pattern_attribution = np.array(saliencies_pattern_attribution)\n",
    "\n",
    "def show_saliencies(saliencies, \n",
    "                    title_dim_one='Dimension 1', \n",
    "                    title_dim_two='Dimension 2'):\n",
    "    plt.figure(figsize=(15,5))\n",
    "    plt.subplot(121, label='dim1')\n",
    "    plt.scatter(range(len(saliencies)), saliencies[:,0], marker='.')\n",
    "    plt.ylim(-2, 2)\n",
    "    plt.xlabel('Data point')\n",
    "    plt.ylabel('Attribution Score')\n",
    "    plt.title(title_dim_one)\n",
    "    plt.subplot(122, label='two')\n",
    "    plt.scatter(range(len(saliencies)), saliencies[:,1], marker='.')\n",
    "    plt.title(title_dim_two)\n",
    "    plt.xlabel('Data point')\n",
    "    plt.ylabel('Attribution Score')\n",
    "    plt.ylim(-2, 2)\n",
    "    plt.show()\n",
    "    \n",
    "show_saliencies(saliencies_pattern_attribution)"
   ]
  },
  {
   "cell_type": "markdown",
   "metadata": {},
   "source": [
    "#### As can be seen, PatternAttribution sucessfully bypasses the noise in dimension 2 but *it starves at the plateau*! "
   ]
  },
  {
   "cell_type": "markdown",
   "metadata": {},
   "source": [
    "### Integrated Gradients\n",
    "\n",
    "For Integrated Gradients, we need to implement the path method. \n",
    "We do this in a way such that the later implementation of Pattern-Guided Integrated Gradients is facilitated. "
   ]
  },
  {
   "cell_type": "code",
   "execution_count": 15,
   "metadata": {},
   "outputs": [],
   "source": [
    "def walk_the_line(x, b, model, steps=100, is_pattern_guided=False):\n",
    "    \"\"\"\n",
    "    Walks a straight path from the baseline (b) to the point of interest (x), collects and averages gradients.\n",
    "\n",
    "    Args:\n",
    "        x: The input.\n",
    "        b: The baseline from where to start the straight path to x.\n",
    "        model: The model to explain.\n",
    "        is_pattern_guided: Whether or not this is a call to pattern-guided integrated gradients.\n",
    "\n",
    "    Returns: (Pattern-Guided) Integrated gradients.\n",
    "    \"\"\"\n",
    "    grads = []\n",
    "    \n",
    "    def switch(y):\n",
    "        if is_pattern_guided:\n",
    "            return y # if pattern-guided, propagate back y instead of 1.0, see Kindermans et al. (2017) \n",
    "        else: \n",
    "            return 1.0\n",
    "\n",
    "    for step in range(steps):  # Walk the line.\n",
    "        alpha = (step + 1) / steps  # Step size.\n",
    "        x_ = alpha * (x - b)  # Input <step> along the straight path from b to x.\n",
    "        output = model.forward(x_)  \n",
    "        grad = model.backward(switch(output))\n",
    "        grads.append(grad)\n",
    "        \n",
    "    grads = np.asarray(grads).squeeze()\n",
    "    grads = np.expand_dims(np.array([(np.sum(grads[:, 0]) / steps), (np.sum(grads[:, 1]) / steps)]), axis=1)\n",
    "    saliencies = (x - b) * grads  # Multiply with difference vector.\n",
    "\n",
    "    return grads, saliencies"
   ]
  },
  {
   "cell_type": "code",
   "execution_count": 16,
   "metadata": {},
   "outputs": [],
   "source": [
    "base_line = np.array([[0], [0]])  # yields zero\n",
    "saliencies_integrated_gradients = []\n",
    "for idx, x in enumerate(X):\n",
    "    grads, saliencies = walk_the_line(x=np.expand_dims(x, 1), model=conventional_net, b=base_line)\n",
    "    saliencies_integrated_gradients.append(saliencies)\n",
    "saliencies_integrated_gradients = np.array(saliencies_integrated_gradients).reshape(len(X), 2)"
   ]
  },
  {
   "cell_type": "markdown",
   "metadata": {},
   "source": [
    "Let us implement a quick sanity check. Integrated gradients meets the property of completeness, that is $\\sum_{i}^{D}\\phi_{i}^{IG}(f,x) = f(x)$; the sum of saliency scores should amount to the output of the model (within the bounds of numerical imprecisions). "
   ]
  },
  {
   "cell_type": "code",
   "execution_count": 17,
   "metadata": {},
   "outputs": [
    {
     "name": "stdout",
     "output_type": "stream",
     "text": [
      "pred: [[-2.]] sum_sal: -2.0\n",
      "pred: [[-0.99]] sum_sal: -0.9899999999999991\n",
      "pred: [[0.02]] sum_sal: 0.020000000000001794\n",
      "pred: [[1.]] sum_sal: 0.9991000000000028\n",
      "pred: [[1.]] sum_sal: 0.995000000000002\n"
     ]
    }
   ],
   "source": [
    "random_indices = [0, 101, 202, 303, -1]\n",
    "for idx in random_indices:\n",
    "    x = X[idx]\n",
    "    pred = conventional_net.forward(x)\n",
    "    sal_sum = np.sum(saliencies_integrated_gradients[idx])\n",
    "    print(f'pred: {pred} sum_sal: {sal_sum}')"
   ]
  },
  {
   "cell_type": "markdown",
   "metadata": {},
   "source": [
    "Good enough. Let us now inspect the attribution scores.  "
   ]
  },
  {
   "cell_type": "code",
   "execution_count": 18,
   "metadata": {},
   "outputs": [
    {
     "data": {
      "image/png": "[encoded data removed]",
      "text/plain": [
       "<Figure size 1080x360 with 2 Axes>"
      ]
     },
     "metadata": {
      "needs_background": "light"
     },
     "output_type": "display_data"
    }
   ],
   "source": [
    "show_saliencies(saliencies_integrated_gradients)"
   ]
  },
  {
   "cell_type": "markdown",
   "metadata": {},
   "source": [
    "#### As can be seen, Integrated Gradients does not starve at the plateau but it attributes importance to the noise in dimension 2!\n",
    "\n"
   ]
  },
  {
   "cell_type": "markdown",
   "metadata": {},
   "source": [
    "## Pattern-Guided Integrated Gradients\n",
    "\n",
    "In response, we propose Pattern-Guided Integrated Gradients (or Integrated PatternAttribution, if you will). "
   ]
  },
  {
   "cell_type": "code",
   "execution_count": 19,
   "metadata": {},
   "outputs": [
    {
     "data": {
      "image/png": "[encoded data removed]",
      "text/plain": [
       "<Figure size 1080x360 with 2 Axes>"
      ]
     },
     "metadata": {
      "needs_background": "light"
     },
     "output_type": "display_data"
    }
   ],
   "source": [
    "saliencies_pattern_guided_integrated_gradients = []\n",
    "for idx, x in enumerate(X):\n",
    "    grads, saliencies = walk_the_line(x=np.expand_dims(x, 1), model=pattern_attribution_net, b=base_line)\n",
    "    saliencies_pattern_guided_integrated_gradients.append(saliencies)\n",
    "saliencies_pattern_guided_integrated_gradients = np.array(saliencies_pattern_guided_integrated_gradients).reshape(len(X), 2)\n",
    "show_saliencies(saliencies_pattern_guided_integrated_gradients)"
   ]
  },
  {
   "cell_type": "markdown",
   "metadata": {},
   "source": [
    "#### As can be seen, Pattern-Guided Integrated Gradients does not(!) starve at the plateau and successfully bypasses the noise!\n",
    "\n",
    "Finally, let us save the results for the paper. "
   ]
  },
  {
   "cell_type": "code",
   "execution_count": 20,
   "metadata": {},
   "outputs": [],
   "source": [
    "base_dir = 'csvs'\n",
    "savetxt(os.path.join(base_dir, 'z.csv'), list(zip(list(range(len(z.T))), z.T)), delimiter=',')\n",
    "savetxt(os.path.join(base_dir, 'y.csv'), list(zip(list(range(len(y))), y)), delimiter=',')\n",
    "savetxt(os.path.join(base_dir, 'signal.csv'), signal, delimiter=',')\n",
    "savetxt(os.path.join(base_dir, 'distractor.csv'), distractor, delimiter=',')\n",
    "savetxt(os.path.join(base_dir, 'X.csv'), X, delimiter=',')\n",
    "\n",
    "SIGNAL_DIM = 0\n",
    "DISTRACTOR_DIM = 1\n",
    "savetxt(os.path.join(base_dir, 'IG_signal.csv'), list(zip(list(range(len(saliencies_integrated_gradients))), \n",
    "                                                          saliencies_integrated_gradients[:, SIGNAL_DIM])), delimiter=',')\n",
    "\n",
    "savetxt(os.path.join(base_dir, 'IG_distractor.csv'), list(zip(list(range(len(saliencies_integrated_gradients))), \n",
    "                                                          saliencies_integrated_gradients[:, DISTRACTOR_DIM])), delimiter=',')\n",
    "\n",
    "savetxt(os.path.join(base_dir, 'PA_signal.csv'), list(zip(list(range(len(saliencies_pattern_attribution))), \n",
    "                                                          saliencies_pattern_attribution[:, SIGNAL_DIM])), delimiter=',')\n",
    "\n",
    "savetxt(os.path.join(base_dir, 'PA_distractor.csv'), list(zip(list(range(len(saliencies_pattern_attribution))), \n",
    "                                                          saliencies_pattern_attribution[:, DISTRACTOR_DIM])), delimiter=',')\n",
    "\n",
    "savetxt(os.path.join(base_dir, 'PGIG_signal.csv'), list(zip(list(range(len(saliencies_pattern_guided_integrated_gradients))), \n",
    "                                                          saliencies_pattern_guided_integrated_gradients[:, SIGNAL_DIM])), delimiter=',')\n",
    "\n",
    "savetxt(os.path.join(base_dir, 'PGIG_distractor.csv'), list(zip(list(range(len(saliencies_pattern_guided_integrated_gradients))), \n",
    "                                                          saliencies_pattern_guided_integrated_gradients[:, DISTRACTOR_DIM])), delimiter=',')"
   ]
  },
  {
   "cell_type": "code",
   "execution_count": null,
   "metadata": {},
   "outputs": [],
   "source": []
  }
 ],
 "metadata": {
  "@webio": {
   "lastCommId": null,
   "lastKernelId": null
  },
  "kernelspec": {
   "display_name": "Python 3",
   "language": "python",
   "name": "python3"
  },
  "language_info": {
   "codemirror_mode": {
    "name": "ipython",
    "version": 3
   },
   "file_extension": ".py",
   "mimetype": "text/x-python",
   "name": "python",
   "nbconvert_exporter": "python",
   "pygments_lexer": "ipython3",
   "version": "3.8.3"
  }
 },
 "nbformat": 4,
 "nbformat_minor": 2
}
